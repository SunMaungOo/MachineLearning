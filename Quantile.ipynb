{
  "nbformat": 4,
  "nbformat_minor": 0,
  "metadata": {
    "colab": {
      "name": "Quantile.ipynb",
      "provenance": [],
      "collapsed_sections": []
    },
    "kernelspec": {
      "name": "python3",
      "display_name": "Python 3"
    }
  },
  "cells": [
    {
      "cell_type": "code",
      "metadata": {
        "id": "0oalEINIS9Q9"
      },
      "source": [
        "import pandas as pd\r\n",
        "import numpy as np"
      ],
      "execution_count": 48,
      "outputs": []
    },
    {
      "cell_type": "markdown",
      "metadata": {
        "id": "VdynTy8WT_lH"
      },
      "source": [
        "\r\n",
        "\r\n",
        "Dataset is taken from https://www.kaggle.com/avikasliwal/used-cars-price-prediction?select=train-data.csv\r\n"
      ]
    },
    {
      "cell_type": "code",
      "metadata": {
        "id": "58jmUxs9TyYX"
      },
      "source": [
        "file_url = \"/content/train-data.csv\""
      ],
      "execution_count": 49,
      "outputs": []
    },
    {
      "cell_type": "code",
      "metadata": {
        "colab": {
          "base_uri": "https://localhost:8080/",
          "height": 417
        },
        "id": "hLGdWI0fT2nj",
        "outputId": "207ad07b-7e77-4c82-f6c7-99fe0d3bd277"
      },
      "source": [
        "df = pd.read_csv(file_url)\r\n",
        "df.head()"
      ],
      "execution_count": 50,
      "outputs": [
        {
          "output_type": "execute_result",
          "data": {
            "text/html": [
              "<div>\n",
              "<style scoped>\n",
              "    .dataframe tbody tr th:only-of-type {\n",
              "        vertical-align: middle;\n",
              "    }\n",
              "\n",
              "    .dataframe tbody tr th {\n",
              "        vertical-align: top;\n",
              "    }\n",
              "\n",
              "    .dataframe thead th {\n",
              "        text-align: right;\n",
              "    }\n",
              "</style>\n",
              "<table border=\"1\" class=\"dataframe\">\n",
              "  <thead>\n",
              "    <tr style=\"text-align: right;\">\n",
              "      <th></th>\n",
              "      <th>Unnamed: 0</th>\n",
              "      <th>Name</th>\n",
              "      <th>Location</th>\n",
              "      <th>Year</th>\n",
              "      <th>Kilometers_Driven</th>\n",
              "      <th>Fuel_Type</th>\n",
              "      <th>Transmission</th>\n",
              "      <th>Owner_Type</th>\n",
              "      <th>Mileage</th>\n",
              "      <th>Engine</th>\n",
              "      <th>Power</th>\n",
              "      <th>Seats</th>\n",
              "      <th>New_Price</th>\n",
              "      <th>Price</th>\n",
              "    </tr>\n",
              "  </thead>\n",
              "  <tbody>\n",
              "    <tr>\n",
              "      <th>0</th>\n",
              "      <td>0</td>\n",
              "      <td>Maruti Wagon R LXI CNG</td>\n",
              "      <td>Mumbai</td>\n",
              "      <td>2010</td>\n",
              "      <td>72000</td>\n",
              "      <td>CNG</td>\n",
              "      <td>Manual</td>\n",
              "      <td>First</td>\n",
              "      <td>26.6 km/kg</td>\n",
              "      <td>998 CC</td>\n",
              "      <td>58.16 bhp</td>\n",
              "      <td>5.0</td>\n",
              "      <td>NaN</td>\n",
              "      <td>1.75</td>\n",
              "    </tr>\n",
              "    <tr>\n",
              "      <th>1</th>\n",
              "      <td>1</td>\n",
              "      <td>Hyundai Creta 1.6 CRDi SX Option</td>\n",
              "      <td>Pune</td>\n",
              "      <td>2015</td>\n",
              "      <td>41000</td>\n",
              "      <td>Diesel</td>\n",
              "      <td>Manual</td>\n",
              "      <td>First</td>\n",
              "      <td>19.67 kmpl</td>\n",
              "      <td>1582 CC</td>\n",
              "      <td>126.2 bhp</td>\n",
              "      <td>5.0</td>\n",
              "      <td>NaN</td>\n",
              "      <td>12.50</td>\n",
              "    </tr>\n",
              "    <tr>\n",
              "      <th>2</th>\n",
              "      <td>2</td>\n",
              "      <td>Honda Jazz V</td>\n",
              "      <td>Chennai</td>\n",
              "      <td>2011</td>\n",
              "      <td>46000</td>\n",
              "      <td>Petrol</td>\n",
              "      <td>Manual</td>\n",
              "      <td>First</td>\n",
              "      <td>18.2 kmpl</td>\n",
              "      <td>1199 CC</td>\n",
              "      <td>88.7 bhp</td>\n",
              "      <td>5.0</td>\n",
              "      <td>8.61 Lakh</td>\n",
              "      <td>4.50</td>\n",
              "    </tr>\n",
              "    <tr>\n",
              "      <th>3</th>\n",
              "      <td>3</td>\n",
              "      <td>Maruti Ertiga VDI</td>\n",
              "      <td>Chennai</td>\n",
              "      <td>2012</td>\n",
              "      <td>87000</td>\n",
              "      <td>Diesel</td>\n",
              "      <td>Manual</td>\n",
              "      <td>First</td>\n",
              "      <td>20.77 kmpl</td>\n",
              "      <td>1248 CC</td>\n",
              "      <td>88.76 bhp</td>\n",
              "      <td>7.0</td>\n",
              "      <td>NaN</td>\n",
              "      <td>6.00</td>\n",
              "    </tr>\n",
              "    <tr>\n",
              "      <th>4</th>\n",
              "      <td>4</td>\n",
              "      <td>Audi A4 New 2.0 TDI Multitronic</td>\n",
              "      <td>Coimbatore</td>\n",
              "      <td>2013</td>\n",
              "      <td>40670</td>\n",
              "      <td>Diesel</td>\n",
              "      <td>Automatic</td>\n",
              "      <td>Second</td>\n",
              "      <td>15.2 kmpl</td>\n",
              "      <td>1968 CC</td>\n",
              "      <td>140.8 bhp</td>\n",
              "      <td>5.0</td>\n",
              "      <td>NaN</td>\n",
              "      <td>17.74</td>\n",
              "    </tr>\n",
              "  </tbody>\n",
              "</table>\n",
              "</div>"
            ],
            "text/plain": [
              "   Unnamed: 0                              Name  ...  New_Price  Price\n",
              "0           0            Maruti Wagon R LXI CNG  ...        NaN   1.75\n",
              "1           1  Hyundai Creta 1.6 CRDi SX Option  ...        NaN  12.50\n",
              "2           2                      Honda Jazz V  ...  8.61 Lakh   4.50\n",
              "3           3                 Maruti Ertiga VDI  ...        NaN   6.00\n",
              "4           4   Audi A4 New 2.0 TDI Multitronic  ...        NaN  17.74\n",
              "\n",
              "[5 rows x 14 columns]"
            ]
          },
          "metadata": {
            "tags": []
          },
          "execution_count": 50
        }
      ]
    },
    {
      "cell_type": "markdown",
      "metadata": {
        "id": "2tfhbn84XUiA"
      },
      "source": [
        "We are going to extract the Kilometers_Driven column and find the Quantitle value which divide it into 2 group"
      ]
    },
    {
      "cell_type": "code",
      "metadata": {
        "colab": {
          "base_uri": "https://localhost:8080/"
        },
        "id": "Am2HjSpEUL2K",
        "outputId": "07047032-7a8b-4a3f-b512-c824ee41a003"
      },
      "source": [
        "kilo_driven = df[\"Kilometers_Driven\"]\r\n",
        " \r\n",
        "quantile_values = np.quantile(kilo_driven,[0.5])\r\n",
        "\r\n",
        "quantile_values"
      ],
      "execution_count": 51,
      "outputs": [
        {
          "output_type": "execute_result",
          "data": {
            "text/plain": [
              "array([53000.])"
            ]
          },
          "metadata": {
            "tags": []
          },
          "execution_count": 51
        }
      ]
    },
    {
      "cell_type": "markdown",
      "metadata": {
        "id": "IJECNy9pXpBw"
      },
      "source": [
        ""
      ]
    },
    {
      "cell_type": "markdown",
      "metadata": {
        "id": "49NDNQvGWe05"
      },
      "source": [
        "Quantile value (the cut off value) is 53000"
      ]
    },
    {
      "cell_type": "code",
      "metadata": {
        "id": "RXRnz5aXUTMC"
      },
      "source": [
        "#divide by 50% quantile value\r\n",
        "\r\n",
        "group1 = kilo_driven[kilo_driven<quantile_values[0]]\r\n",
        "group2 = kilo_driven[kilo_driven>quantile_values[0]]"
      ],
      "execution_count": 52,
      "outputs": []
    },
    {
      "cell_type": "code",
      "metadata": {
        "colab": {
          "base_uri": "https://localhost:8080/"
        },
        "id": "ptG8fH4eUwS6",
        "outputId": "e418ab7c-3279-4b9c-af0b-cce9d77f8cab"
      },
      "source": [
        "total_row = kilo_driven.shape[0]\r\n",
        "\r\n",
        "group1_row = group1.shape[0]\r\n",
        "\r\n",
        "group2_row = group2.shape[0]\r\n",
        "\r\n",
        "print(f\"Total row count:{total_row}\")\r\n",
        "print(f\"Group 1 row count:{group1_row}\")\r\n",
        "print(f\"Group 2 row count:{group2_row}\")\r\n",
        "print(f\"Group 1+2 row count:{group1_row+group2_row}\")"
      ],
      "execution_count": 53,
      "outputs": [
        {
          "output_type": "stream",
          "text": [
            "Total row count:6019\n",
            "Group 1 row count:2987\n",
            "Group 2 row count:3007\n",
            "Group 1+2 row count:5994\n"
          ],
          "name": "stdout"
        }
      ]
    },
    {
      "cell_type": "markdown",
      "metadata": {
        "id": "PnmZ1SA4VzCr"
      },
      "source": [
        "Notice that we are missing some row since 2987 + 3007 = 5994 and the total row count is 6019"
      ]
    },
    {
      "cell_type": "code",
      "metadata": {
        "colab": {
          "base_uri": "https://localhost:8080/"
        },
        "id": "6IodWEOkVEPh",
        "outputId": "4b91d541-989f-4538-d5de-a8fab76197c4"
      },
      "source": [
        "group1_percentage = (group1_row/total_row)*100\r\n",
        "\r\n",
        "group2_percentage = (group2_row/total_row)*100\r\n",
        "\r\n",
        "print(f\"Group 1 percentage:{group1_percentage}\")\r\n",
        "print(f\"Group 2 percentage:{group2_percentage}\")\r\n",
        "print(f\"Group 1+2 percentage:{group1_percentage+group2_percentage}\")"
      ],
      "execution_count": 54,
      "outputs": [
        {
          "output_type": "stream",
          "text": [
            "Group 1 percentage:49.62618375145373\n",
            "Group 2 percentage:49.95846486127264\n",
            "Group 1+2 percentage:99.58464861272637\n"
          ],
          "name": "stdout"
        }
      ]
    },
    {
      "cell_type": "markdown",
      "metadata": {
        "id": "1NDKLMIZWE5T"
      },
      "source": [
        "Like group row count , we are missing some percentage since 49.62 + 49.95 = 99.58% and it is not 100%"
      ]
    },
    {
      "cell_type": "markdown",
      "metadata": {
        "id": "RKmWCsO1WtAR"
      },
      "source": [
        "Let find the missing 25 row count since 6019-5994 = 25"
      ]
    },
    {
      "cell_type": "code",
      "metadata": {
        "colab": {
          "base_uri": "https://localhost:8080/"
        },
        "id": "8GZuwaJjW2F-",
        "outputId": "1ff761c9-668c-49df-c093-d1a65fbeb948"
      },
      "source": [
        "cut_off_row = kilo_driven[kilo_driven==quantile_values[0]].shape[0] \r\n",
        "\r\n",
        "cut_off_row"
      ],
      "execution_count": 55,
      "outputs": [
        {
          "output_type": "execute_result",
          "data": {
            "text/plain": [
              "25"
            ]
          },
          "metadata": {
            "tags": []
          },
          "execution_count": 55
        }
      ]
    },
    {
      "cell_type": "code",
      "metadata": {
        "colab": {
          "base_uri": "https://localhost:8080/"
        },
        "id": "0ug3QE1sXDFN",
        "outputId": "9b23255a-f5a3-4155-b5ac-d1f393681e02"
      },
      "source": [
        "print(f\"Total row count:{group1_row+group2_row+cut_off_row}\")"
      ],
      "execution_count": 56,
      "outputs": [
        {
          "output_type": "stream",
          "text": [
            "Total row count:6019\n"
          ],
          "name": "stdout"
        }
      ]
    },
    {
      "cell_type": "markdown",
      "metadata": {
        "id": "tTX4JF9OXqY3"
      },
      "source": [
        "As seen above the missing 25 row is the row which have the exact quantile value (53000)"
      ]
    },
    {
      "cell_type": "code",
      "metadata": {
        "id": "LOhJdzcMX0I0"
      },
      "source": [
        ""
      ],
      "execution_count": null,
      "outputs": []
    }
  ]
}